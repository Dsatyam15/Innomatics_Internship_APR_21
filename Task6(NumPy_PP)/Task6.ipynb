{
  "nbformat": 4,
  "nbformat_minor": 0,
  "metadata": {
    "colab": {
      "name": "Untitled0.ipynb",
      "provenance": []
    },
    "kernelspec": {
      "name": "python3",
      "display_name": "Python 3"
    },
    "language_info": {
      "name": "python"
    }
  },
  "cells": [
    {
      "cell_type": "code",
      "metadata": {
        "colab": {
          "base_uri": "https://localhost:8080/"
        },
        "id": "kxZAHgOPUsc5",
        "outputId": "8e64a70b-6184-4ccb-caad-24c230f4d13b"
      },
      "source": [
        "#Task6\n",
        "#Q1\n",
        "import numpy\n",
        "inp = list(map(int, input().split()))\n",
        "n = numpy.array(inp, float)\n",
        "print(n)\n"
      ],
      "execution_count": null,
      "outputs": [
        {
          "output_type": "stream",
          "text": [
            "1 2 3 4 -8 -10\n",
            "[-10.  -8.   4.   3.   2.   1.]\n"
          ],
          "name": "stdout"
        }
      ]
    },
    {
      "cell_type": "code",
      "metadata": {
        "colab": {
          "base_uri": "https://localhost:8080/"
        },
        "id": "EGpiJh7zWeGr",
        "outputId": "d94699e4-761e-471a-f9f6-0dca78d1541b"
      },
      "source": [
        "#Task6\n",
        "#Q2\n",
        "import numpy\n",
        "inp = list(map(int, input().split()))\n",
        "inar = numpy.array(inp)\n",
        "print(numpy.reshape(inar, (3,3)))\n"
      ],
      "execution_count": null,
      "outputs": [
        {
          "output_type": "stream",
          "text": [
            "1 2 3 4 5 6 7 8 9\n",
            "[[1 2 3]\n",
            " [4 5 6]\n",
            " [7 8 9]]\n"
          ],
          "name": "stdout"
        }
      ]
    },
    {
      "cell_type": "code",
      "metadata": {
        "colab": {
          "base_uri": "https://localhost:8080/"
        },
        "id": "oZn0CZk1mSL7",
        "outputId": "760763df-f820-4189-af0f-a68b8723b640"
      },
      "source": [
        "#Task6\n",
        "#Q3\n",
        "import numpy\n",
        "inp = list(map(int, input().split()))\n",
        "inp3 = []\n",
        "n = inp[0]\n",
        "for i in range(n):\n",
        "  inp1 = list(map(int, input().split()))\n",
        "  inp3.append(inp1)\n",
        "inar = numpy.array(inp3)\n",
        "print(numpy.transpose(inp3))\n",
        "dis = inar.flatten()\n",
        "print(dis)\n"
      ],
      "execution_count": null,
      "outputs": [
        {
          "output_type": "stream",
          "text": [
            "2 2\n",
            "1 2\n",
            "3 4\n",
            "[[1 3]\n",
            " [2 4]]\n",
            "[1 2 3 4]\n"
          ],
          "name": "stdout"
        }
      ]
    },
    {
      "cell_type": "code",
      "metadata": {
        "colab": {
          "base_uri": "https://localhost:8080/"
        },
        "id": "BipA1wI4cQb6",
        "outputId": "74ae4d52-c844-4870-c1a7-410a013fdae9"
      },
      "source": [
        "#Task6\n",
        "#Q4\n",
        "import numpy\n",
        "inp = list(map(int, input().split()))\n",
        "ls1 = []\n",
        "ls2 = []\n",
        "for i in range(inp[0]):\n",
        "  inp1 = list(map(int, input().split()))\n",
        "  ls1.append(inp1)\n",
        "for j in range(inp[1]):\n",
        "  inp2 = list(map(int, input().split()))\n",
        "  ls2.append(inp2)\n",
        "arr1 = numpy.array(ls1)\n",
        "arr2 = numpy.array(ls2)\n",
        "print (numpy.concatenate((arr1, arr2), axis=0))\n",
        "\n",
        "\n"
      ],
      "execution_count": null,
      "outputs": [
        {
          "output_type": "stream",
          "text": [
            "4 3 2\n",
            "1 2\n",
            "1 2\n",
            "1 2\n",
            "1 2\n",
            "3 4\n",
            "3 4\n",
            "3 4\n",
            "[[1 2]\n",
            " [1 2]\n",
            " [1 2]\n",
            " [1 2]\n",
            " [3 4]\n",
            " [3 4]\n",
            " [3 4]]\n"
          ],
          "name": "stdout"
        }
      ]
    },
    {
      "cell_type": "code",
      "metadata": {
        "id": "tHNXoC4nJryM",
        "colab": {
          "base_uri": "https://localhost:8080/"
        },
        "outputId": "005a3deb-f990-45b4-99bf-a71862f3cc36"
      },
      "source": [
        "#Task6\n",
        "#Q5\n",
        "import numpy\n",
        "N = tuple(map(int, input().split()))\n",
        "print (numpy.zeros(N, dtype = numpy.int)) \n",
        "print (numpy.ones(N, dtype = numpy.int))"
      ],
      "execution_count": null,
      "outputs": [
        {
          "output_type": "stream",
          "text": [
            "3 3 3\n",
            "[[[0 0 0]\n",
            "  [0 0 0]\n",
            "  [0 0 0]]\n",
            "\n",
            " [[0 0 0]\n",
            "  [0 0 0]\n",
            "  [0 0 0]]\n",
            "\n",
            " [[0 0 0]\n",
            "  [0 0 0]\n",
            "  [0 0 0]]]\n",
            "[[[1 1 1]\n",
            "  [1 1 1]\n",
            "  [1 1 1]]\n",
            "\n",
            " [[1 1 1]\n",
            "  [1 1 1]\n",
            "  [1 1 1]]\n",
            "\n",
            " [[1 1 1]\n",
            "  [1 1 1]\n",
            "  [1 1 1]]]\n"
          ],
          "name": "stdout"
        }
      ]
    },
    {
      "cell_type": "code",
      "metadata": {
        "colab": {
          "base_uri": "https://localhost:8080/"
        },
        "id": "X_8saYdchBqu",
        "outputId": "216d9018-f4d8-4545-c0f7-2c471efc2e15"
      },
      "source": [
        "#Task6\n",
        "#Q6\n",
        "import numpy\n",
        "numpy.set_printoptions(legacy='1.13')\n",
        "n = list(map(int, input().split()))\n",
        "print(numpy.eye(n[0], n[1], k=0))"
      ],
      "execution_count": null,
      "outputs": [
        {
          "output_type": "stream",
          "text": [
            "3 3\n",
            "[[ 1.  0.  0.]\n",
            " [ 0.  1.  0.]\n",
            " [ 0.  0.  1.]]\n"
          ],
          "name": "stdout"
        }
      ]
    },
    {
      "cell_type": "code",
      "metadata": {
        "colab": {
          "base_uri": "https://localhost:8080/"
        },
        "id": "g9FKyj0XyL75",
        "outputId": "dc841018-9ce7-415b-b635-bdd36be826e9"
      },
      "source": [
        "#Task6\n",
        "#Q7\n",
        "import numpy\n",
        "inp = list(map(int, input().split()))\n",
        "ls1 = []\n",
        "ls2 = []\n",
        "for i in range(inp[0]):\n",
        "  inp1 = list(map(int, input().split()))\n",
        "  ls1.append(inp1)\n",
        "for j in range(inp[0]):\n",
        "  inp2 = list(map(int, input().split()))\n",
        "  ls2.append(inp2)  \n",
        "a = numpy.array(ls1)\n",
        "b = numpy.array(ls2)  \n",
        "print(numpy.add(a, b))\n",
        "print(numpy.subtract(a, b))\n",
        "print(numpy.multiply(a, b))\n",
        "print(numpy.divide(a, b))\n",
        "print(numpy.mod(a, b))\n",
        "print(numpy.power(a, b))"
      ],
      "execution_count": null,
      "outputs": [
        {
          "output_type": "stream",
          "text": [
            "1 4\n",
            "1 2 3 4\n",
            "5 6 7 8\n",
            "[[ 6  8 10 12]]\n",
            "[[-4 -4 -4 -4]]\n",
            "[[ 5 12 21 32]]\n",
            "[[ 0.2         0.33333333  0.42857143  0.5       ]]\n",
            "[[1 2 3 4]]\n",
            "[[    1    64  2187 65536]]\n"
          ],
          "name": "stdout"
        }
      ]
    },
    {
      "cell_type": "code",
      "metadata": {
        "id": "gyMKNz2q_N-2",
        "colab": {
          "base_uri": "https://localhost:8080/"
        },
        "outputId": "a6b98ff9-7b5f-48be-c969-bedc15f666fa"
      },
      "source": [
        "#Task6\n",
        "#Q8\n",
        "import numpy\n",
        "inp = list(map(float, input().split()))\n",
        "arr = numpy.array(inp)\n",
        "print(numpy.floor(arr))\n",
        "print(numpy.ceil(arr))\n",
        "print(numpy.rint(arr))"
      ],
      "execution_count": null,
      "outputs": [
        {
          "output_type": "stream",
          "text": [
            "1.1 2.2 3.3 4.4 5.5 6.6 7.7 8.8 9.9\n",
            "[1. 2. 3. 4. 5. 6. 7. 8. 9.]\n",
            "[ 2.  3.  4.  5.  6.  7.  8.  9. 10.]\n",
            "[ 1.  2.  3.  4.  6.  7.  8.  9. 10.]\n"
          ],
          "name": "stdout"
        }
      ]
    },
    {
      "cell_type": "code",
      "metadata": {
        "colab": {
          "base_uri": "https://localhost:8080/"
        },
        "id": "6zZ-Ajk2LoKC",
        "outputId": "0e398670-88f3-4ba0-f465-8a9ebb8bfae0"
      },
      "source": [
        "#Task6\n",
        "#Q9\n",
        "import numpy\n",
        "inp = list(map(int, input().split()))\n",
        "ls1 = []\n",
        "for i in range(inp[0]):\n",
        "  inp1 = list(map(int, input().split()))\n",
        "  ls1.append(inp1)\n",
        "arr1 = numpy.array(ls1) \n",
        "arr2 = numpy.sum(arr1, axis=0)\n",
        "print(arr2)\n",
        "print(numpy.prod(arr2)) "
      ],
      "execution_count": null,
      "outputs": [
        {
          "output_type": "stream",
          "text": [
            "2 2\n",
            "1 2\n",
            "3 4\n",
            "[4 6]\n",
            "24\n"
          ],
          "name": "stdout"
        }
      ]
    },
    {
      "cell_type": "code",
      "metadata": {
        "colab": {
          "base_uri": "https://localhost:8080/"
        },
        "id": "38Z8SlOna-Em",
        "outputId": "6e3c920b-8347-4b65-f83a-335523b3758f"
      },
      "source": [
        "#Task6\n",
        "#Q10\n",
        "import numpy\n",
        "inp = list(map(int, input().split()))\n",
        "ls1 = []\n",
        "for i in range(inp[0]):\n",
        "  inp1 = list(map(int, input().split()))\n",
        "  ls1.append(inp1)\n",
        "arr1 = numpy.array(ls1)\n",
        "arr2 = numpy.min(arr1, axis=1)\n",
        "print(arr2)\n",
        "print(numpy.max(arr2))  "
      ],
      "execution_count": null,
      "outputs": [
        {
          "output_type": "stream",
          "text": [
            "4 2\n",
            "2 5\n",
            "3 7\n",
            "1 3\n",
            "4 0\n",
            "[2 3 1 0]\n",
            "3\n"
          ],
          "name": "stdout"
        }
      ]
    },
    {
      "cell_type": "code",
      "metadata": {
        "colab": {
          "base_uri": "https://localhost:8080/"
        },
        "id": "QZMDHw8zb5xS",
        "outputId": "2f71e42e-d8b5-4d4c-e0cc-77c8ac78fa9e"
      },
      "source": [
        "#Task6\n",
        "#Q11\n",
        "import numpy\n",
        "inp = list(map(int, input().split()))\n",
        "ls1 = []\n",
        "for i in range(inp[0]):\n",
        "  inp1 = list(map(int, input().split()))\n",
        "  ls1.append(inp1)\n",
        "arr1 = numpy.array(ls1)\n",
        "print(numpy.mean(arr1, axis=1))\n",
        "print(numpy.var(arr1, axis=0)) \n",
        "print(numpy.std(arr1, axis=None))"
      ],
      "execution_count": null,
      "outputs": [
        {
          "output_type": "stream",
          "text": [
            "2 2\n",
            "1 2\n",
            "3 4\n",
            "[1.5 3.5]\n",
            "[1. 1.]\n",
            "1.118033988749895\n"
          ],
          "name": "stdout"
        }
      ]
    },
    {
      "cell_type": "code",
      "metadata": {
        "colab": {
          "base_uri": "https://localhost:8080/"
        },
        "id": "ClksHRlMdO_y",
        "outputId": "05febc71-77ff-4df8-cb1f-74e56a1d8592"
      },
      "source": [
        "#Task6\n",
        "#Q12\n",
        "import numpy\n",
        "N = int(input(\"Enter the number of rows and columns:\"))\n",
        "ls1 = []\n",
        "ls2 = []\n",
        "for i in range(N):\n",
        "  inp1 = list(map(int, input().split()))\n",
        "  ls1.append(inp1)\n",
        "for j in range(N):\n",
        "  inp2 = list(map(int, input().split()))\n",
        "  ls2.append(inp2)\n",
        "arr1 = numpy.array(ls1)\n",
        "arr2 = numpy.array(ls2)\n",
        "print(numpy.dot(arr1, arr2))  "
      ],
      "execution_count": null,
      "outputs": [
        {
          "output_type": "stream",
          "text": [
            "Enter the number of rows and columns:2\n",
            "1 2\n",
            "3 4\n",
            "1 2\n",
            "3 4\n",
            "[[ 7 10]\n",
            " [15 22]]\n"
          ],
          "name": "stdout"
        }
      ]
    },
    {
      "cell_type": "code",
      "metadata": {
        "colab": {
          "base_uri": "https://localhost:8080/"
        },
        "id": "qo2cu1sHgwaV",
        "outputId": "6bed3ce9-7025-486a-de8c-74385fc46d22"
      },
      "source": [
        "#Task6\n",
        "#Q13\n",
        "import numpy\n",
        "inp1 = list(map(int, input().split()))\n",
        "inp2 = list(map(int, input().split()))\n",
        "arr1 = numpy.array(inp1)\n",
        "arr2 = numpy.array(inp2)\n",
        "print(numpy.inner(arr1, arr2))\n",
        "print(numpy.outer(arr1, arr2))\n"
      ],
      "execution_count": null,
      "outputs": [
        {
          "output_type": "stream",
          "text": [
            "0 1\n",
            "2 3\n",
            "3\n",
            "[[0 0]\n",
            " [2 3]]\n"
          ],
          "name": "stdout"
        }
      ]
    },
    {
      "cell_type": "code",
      "metadata": {
        "colab": {
          "base_uri": "https://localhost:8080/"
        },
        "id": "HOzb96H7h8Ke",
        "outputId": "fbf4fa26-0a3d-4b51-f915-10d3ccb3034a"
      },
      "source": [
        "#Task6\n",
        "#Q14\n",
        "import numpy\n",
        "inp1 = list(map(float, input().split()))\n",
        "arr1 = numpy.array(inp1)\n",
        "print(numpy.roots(arr1))"
      ],
      "execution_count": null,
      "outputs": [
        {
          "output_type": "stream",
          "text": [
            "1.1 2 3\n",
            "[-0.90909091+1.37870463j -0.90909091-1.37870463j]\n"
          ],
          "name": "stdout"
        }
      ]
    },
    {
      "cell_type": "code",
      "metadata": {
        "colab": {
          "base_uri": "https://localhost:8080/"
        },
        "id": "3Hww-RvDnknQ",
        "outputId": "4b63e584-3c1f-4e20-cce9-b1f34767dd4d"
      },
      "source": [
        "#Task6\n",
        "#Q15\n",
        "import numpy\n",
        "N = int(input(\"Enter the number of rows and columns:\"))\n",
        "ls1 = []\n",
        "for i in range(N):\n",
        "  inp1 = list(map(float, input().split()))\n",
        "  ls1.append(inp1)\n",
        "arr1 = numpy.array(ls1)\n",
        "print(numpy.linalg.det(arr1))\n"
      ],
      "execution_count": null,
      "outputs": [
        {
          "output_type": "stream",
          "text": [
            "Enter the number of rows and columns:2\n",
            "1.1 1.1\n",
            "1.1 1.1\n",
            "0.0\n"
          ],
          "name": "stdout"
        }
      ]
    },
    {
      "cell_type": "code",
      "metadata": {
        "id": "8DMwCmal2WfD"
      },
      "source": [
        ""
      ],
      "execution_count": null,
      "outputs": []
    }
  ]
}