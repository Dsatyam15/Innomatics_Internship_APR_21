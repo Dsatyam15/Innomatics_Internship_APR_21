{
  "nbformat": 4,
  "nbformat_minor": 0,
  "metadata": {
    "colab": {
      "name": "Task6.ipynb",
      "provenance": []
    },
    "kernelspec": {
      "display_name": "Python 3",
      "name": "python3"
    },
    "language_info": {
      "name": "python"
    }
  },
  "cells": [
    {
      "cell_type": "code",
      "metadata": {
        "colab": {
          "base_uri": "https://localhost:8080/"
        },
        "id": "kSu-pfewWXpk",
        "outputId": "1fc29901-a19d-49bb-c850-1bc4420489e1"
      },
      "source": [
        "#Task5\n",
        "#Q1\n",
        "import re\n",
        "\n",
        "t = int(input())\n",
        "\n",
        "for i in range(t):\n",
        "    value = input()\n",
        "    p = re.match(r'[-+]?[0-9]*[.][0-9]+$', value)\n",
        "    if p:\n",
        "        print('True')\n",
        "    else:\n",
        "        print('False')"
      ],
      "execution_count": null,
      "outputs": [
        {
          "output_type": "stream",
          "text": [
            "4\n",
            "4.0O0\n",
            "False\n",
            "-1.00\n",
            "True\n",
            "+4.54\n",
            "True\n",
            "SomeRandomStuff\n",
            "False\n"
          ],
          "name": "stdout"
        }
      ]
    },
    {
      "cell_type": "code",
      "metadata": {
        "colab": {
          "base_uri": "https://localhost:8080/"
        },
        "id": "h3n2K04iW1Pl",
        "outputId": "d877c7ea-7c70-4648-9a2d-65b8a53d07e9"
      },
      "source": [
        "#Task5\n",
        "#Q2\n",
        "import re\n",
        "\n",
        "n = input()\n",
        "pattern = r\"[.,]+\"\n",
        "value = re.split(pattern, n)\n",
        "\n",
        "for i in value:\n",
        "    print(i)"
      ],
      "execution_count": null,
      "outputs": [
        {
          "output_type": "stream",
          "text": [
            "100,000,000.000\n",
            "100\n",
            "000\n",
            "000\n",
            "000\n"
          ],
          "name": "stdout"
        }
      ]
    },
    {
      "cell_type": "code",
      "metadata": {
        "colab": {
          "base_uri": "https://localhost:8080/"
        },
        "id": "7t68A0tLXIS8",
        "outputId": "9bf5bc00-4b89-45c8-d490-061962d57a22"
      },
      "source": [
        "#Task5\n",
        "#Q3\n",
        "import re\n",
        "\n",
        "n = input()\n",
        "value = re.search(r\"([a-z0-9])\\1+\", n)\n",
        "\n",
        "if value is not None:\n",
        "    print(value.group(1))\n",
        "else:\n",
        "    print(-1)"
      ],
      "execution_count": null,
      "outputs": [
        {
          "output_type": "stream",
          "text": [
            "..12345678910111213141516171820212223\n",
            "1\n"
          ],
          "name": "stdout"
        }
      ]
    },
    {
      "cell_type": "code",
      "metadata": {
        "colab": {
          "base_uri": "https://localhost:8080/"
        },
        "id": "Zegvuz5phBLQ",
        "outputId": "5bbb8936-f3f9-41da-b101-37fdc50e2454"
      },
      "source": [
        "#Task5\n",
        "#Q4\n",
        "import re\n",
        "\n",
        "cons = 'QWRTYPSDFGHJKLZXCVBNMqwrtypsdfghjklzxcvbnm'\n",
        "vowels = 'AEIOUaeiou'\n",
        "\n",
        "if __name__ == \"__main__\":\n",
        "    string = input().strip()\n",
        "    \n",
        "    m = re.findall(r\"(?<=[%s])([%s]{2,})[%s]\" % (cons, vowels, cons), string)\n",
        "    \n",
        "    print(\"\\n\".join(m or ['-1']))"
      ],
      "execution_count": null,
      "outputs": [
        {
          "output_type": "stream",
          "text": [
            "rabcdeefgyYhFjkIoomnpOeorteeeeet\n",
            "ee\n",
            "Ioo\n",
            "Oeo\n",
            "eeeee\n"
          ],
          "name": "stdout"
        }
      ]
    },
    {
      "cell_type": "code",
      "metadata": {
        "colab": {
          "base_uri": "https://localhost:8080/"
        },
        "id": "drWA4R-B09Yg",
        "outputId": "2317bbd4-deda-43c0-8099-ef491330612d"
      },
      "source": [
        "#Task5\n",
        "#Q5\n",
        "import re\n",
        "\n",
        "string = input()\n",
        "substring = input()\n",
        "\n",
        "pattern = re.compile(substring)\n",
        "match = pattern.search(string)\n",
        "if not match: print('(-1, -1)')\n",
        "while match:\n",
        "    print('({0}, {1})'.format(match.start(), match.end() - 1))\n",
        "    match = pattern.search(string, match.start() + 1)"
      ],
      "execution_count": null,
      "outputs": [
        {
          "output_type": "stream",
          "text": [
            "aaadaa\n",
            "aa\n",
            "(0, 1)\n",
            "(1, 2)\n",
            "(4, 5)\n"
          ],
          "name": "stdout"
        }
      ]
    },
    {
      "cell_type": "code",
      "metadata": {
        "colab": {
          "background_save": true
        },
        "id": "VJ_q0zIOCrni",
        "outputId": "3a936140-2725-49ae-976e-2b6c8b5167a1"
      },
      "source": [
        "#Task5\n",
        "#Q6\n",
        "import re\n",
        "\n",
        "ii = int(input())\n",
        "\n",
        "for i in range(0,ii):\n",
        "   txt = input()\n",
        "   txt = re.sub(r\"\\ \\&\\&\\ \",\" and \",txt)\n",
        "   txt = re.sub(r\"\\ \\|\\|\\ \",\" or \",txt)\n",
        "   txt = re.sub(r\"\\ \\&\\&\\ \",\" and \",txt)\n",
        "   txt = re.sub(r\"\\ \\|\\|\\ \",\" or \",txt)\n",
        "   print(txt)"
      ],
      "execution_count": null,
      "outputs": [
        {
          "output_type": "error",
          "ename": "ValueError",
          "evalue": "ignored",
          "traceback": [
            "\u001b[0;31m---------------------------------------------------------------------------\u001b[0m",
            "\u001b[0;31mValueError\u001b[0m                                Traceback (most recent call last)",
            "\u001b[0;32m<ipython-input-1-0172b015e068>\u001b[0m in \u001b[0;36m<module>\u001b[0;34m()\u001b[0m\n\u001b[1;32m      3\u001b[0m \u001b[0;32mimport\u001b[0m \u001b[0mre\u001b[0m\u001b[0;34m\u001b[0m\u001b[0;34m\u001b[0m\u001b[0m\n\u001b[1;32m      4\u001b[0m \u001b[0;34m\u001b[0m\u001b[0m\n\u001b[0;32m----> 5\u001b[0;31m \u001b[0mii\u001b[0m \u001b[0;34m=\u001b[0m \u001b[0mint\u001b[0m\u001b[0;34m(\u001b[0m\u001b[0minput\u001b[0m\u001b[0;34m(\u001b[0m\u001b[0;34m)\u001b[0m\u001b[0;34m)\u001b[0m\u001b[0;34m\u001b[0m\u001b[0;34m\u001b[0m\u001b[0m\n\u001b[0m\u001b[1;32m      6\u001b[0m \u001b[0;34m\u001b[0m\u001b[0m\n\u001b[1;32m      7\u001b[0m \u001b[0;32mfor\u001b[0m \u001b[0mi\u001b[0m \u001b[0;32min\u001b[0m \u001b[0mrange\u001b[0m\u001b[0;34m(\u001b[0m\u001b[0;36m0\u001b[0m\u001b[0;34m,\u001b[0m\u001b[0mii\u001b[0m\u001b[0;34m)\u001b[0m\u001b[0;34m:\u001b[0m\u001b[0;34m\u001b[0m\u001b[0;34m\u001b[0m\u001b[0m\n",
            "\u001b[0;31mValueError\u001b[0m: invalid literal for int() with base 10: \"11 a = 1; b = input();  if a + b > 0 && a - b < 0:     start() elif a*b > 10 || a/b < 1:     stop() print set(list(a)) | set(list(b))  #Note do not change &&& or ||| or & or | #Only change those '&&'"
          ]
        }
      ]
    }
  ]
}