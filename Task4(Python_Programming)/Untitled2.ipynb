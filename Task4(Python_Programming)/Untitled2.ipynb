{
  "nbformat": 4,
  "nbformat_minor": 0,
  "metadata": {
    "colab": {
      "name": "Untitled2.ipynb",
      "provenance": [],
      "collapsed_sections": []
    },
    "kernelspec": {
      "name": "python3",
      "display_name": "Python 3"
    },
    "language_info": {
      "name": "python"
    }
  },
  "cells": [
    {
      "cell_type": "code",
      "metadata": {
        "colab": {
          "base_uri": "https://localhost:8080/"
        },
        "id": "RoHp7jX7hoNZ",
        "outputId": "b343d0c0-51e4-44fc-a2f1-cfb447019cb8"
      },
      "source": [
        "#Task4\n",
        "#Q1\n",
        "stg = str(input())\n",
        "print(stg.swapcase())"
      ],
      "execution_count": null,
      "outputs": [
        {
          "output_type": "stream",
          "text": [
            "Satyam\n",
            "sATYAM\n"
          ],
          "name": "stdout"
        }
      ]
    },
    {
      "cell_type": "code",
      "metadata": {
        "colab": {
          "base_uri": "https://localhost:8080/"
        },
        "id": "Q4lvhrZ8nPgI",
        "outputId": "b51c0d0a-f07f-4517-c0d6-cb91096b87a7"
      },
      "source": [
        "#Task4\n",
        "#Q2\n",
        "bolo = str(input())\n",
        "bolo = bolo.split(\" \")\n",
        "bolo = \"-\".join(bolo)\n",
        "print(bolo)\n"
      ],
      "execution_count": null,
      "outputs": [
        {
          "output_type": "stream",
          "text": [
            "Kya haal hai\n",
            "Kya-haal-hai\n"
          ],
          "name": "stdout"
        }
      ]
    },
    {
      "cell_type": "code",
      "metadata": {
        "colab": {
          "base_uri": "https://localhost:8080/"
        },
        "id": "cstibTORSuu6",
        "outputId": "793f78ac-7b3f-45ad-b209-552daff089fb"
      },
      "source": [
        "#Task4\n",
        "#Q3\n",
        "first = str(input(\"Enter 1st name:\"))\n",
        "last = str(input(\"Enter last name:\"))\n",
        "fname = first + \" \" + last\n",
        "print(\"Hello\",fname,\"! You just delved into python\")"
      ],
      "execution_count": null,
      "outputs": [
        {
          "output_type": "stream",
          "text": [
            "Enter 1st name:Satyam\n",
            "Enter last name:Dubey\n",
            "Hello Satyam Dubey ! You just delved into python\n"
          ],
          "name": "stdout"
        }
      ]
    },
    {
      "cell_type": "code",
      "metadata": {
        "colab": {
          "base_uri": "https://localhost:8080/"
        },
        "id": "u1yKDuFbnv1u",
        "outputId": "fd0c4d59-4bc0-457c-ab70-448d0c28aab2"
      },
      "source": [
        "#Task4\n",
        "#Q4\n",
        "gstr = str(input(\"Enter the string:\"))\n",
        "ind = int(input(\"Enter index to change:\"))\n",
        "char = str(input(\"Enter character to insert:\"))\n",
        "lst = list(gstr)\n",
        "lst[ind] = char\n",
        "string = ''.join(lst)\n",
        "print(string)\n",
        "str1 = gstr[:ind] + char +gstr[ind+1:]\n",
        "print(str1)\n"
      ],
      "execution_count": null,
      "outputs": [
        {
          "output_type": "stream",
          "text": [
            "Enter the string:Hello\n",
            "Enter index to change:2\n",
            "Enter character to insert:x\n",
            "Hexlo\n",
            "Hexlo\n"
          ],
          "name": "stdout"
        }
      ]
    },
    {
      "cell_type": "code",
      "metadata": {
        "id": "TPs_LJgk4Mx1",
        "colab": {
          "base_uri": "https://localhost:8080/"
        },
        "outputId": "15a36847-174d-4eb3-c018-6ced88505335"
      },
      "source": [
        "#Task4\n",
        "#Q5\n",
        "stg =  str(input(\"Enter the main string:\"))\n",
        "sstg = str(input(\"Enter the substring:\"))\n",
        "c = stg.count(sstg)\n",
        "print(c)\n"
      ],
      "execution_count": null,
      "outputs": [
        {
          "output_type": "stream",
          "text": [
            "Enter the main string:matata\n",
            "Enter the substring:at\n",
            "2\n"
          ],
          "name": "stdout"
        }
      ]
    },
    {
      "cell_type": "code",
      "metadata": {
        "colab": {
          "base_uri": "https://localhost:8080/"
        },
        "id": "u-WxT8_nwFPb",
        "outputId": "da5b606a-7ae6-4dab-89d8-1cc79788eede"
      },
      "source": [
        "#Task4\n",
        "#Q6\n",
        "do = str(input(\"Enter the string:\"))\n",
        "print(any(i.isalnum() for i in do))\n",
        "print(any(i.isalpha() for i in do))\n",
        "print(any(i.isdigit() for i in do))\n",
        "print(any(i.islower() for i in do))\n",
        "print(any(i.isupper() for i in do))\n",
        "\n",
        "\n"
      ],
      "execution_count": null,
      "outputs": [
        {
          "output_type": "stream",
          "text": [
            "Enter the string:Ha2\n",
            "True\n",
            "True\n",
            "True\n",
            "True\n",
            "True\n"
          ],
          "name": "stdout"
        }
      ]
    },
    {
      "cell_type": "code",
      "metadata": {
        "colab": {
          "base_uri": "https://localhost:8080/"
        },
        "id": "Zne2hDM62OnN",
        "outputId": "41c44690-d93a-4d81-8a58-b03916ff7419"
      },
      "source": [
        "#Task4\n",
        "#Q7\n",
        "#Replace all __ with rjust, ljust or center. \n",
        "\n",
        "thickness = int(input()) #This must be an odd number\n",
        "c = 'H'\n",
        "\n",
        "#Top Cone\n",
        "for i in range(thickness):\n",
        "    print((c*i).rjust(thickness-1)+c+(c*i).ljust(thickness-1))\n",
        "\n",
        "#Top Pillars\n",
        "for i in range(thickness+1):\n",
        "    print((c*thickness).center(thickness*2)+(c*thickness).center(thickness*6))\n",
        "\n",
        "#Middle Belt\n",
        "for i in range((thickness+1)//2):\n",
        "    print((c*thickness*5).center(thickness*6))    \n",
        "\n",
        "#Bottom Pillars\n",
        "for i in range(thickness+1):\n",
        "    print((c*thickness).center(thickness*2)+(c*thickness).center(thickness*6))    \n",
        "\n",
        "#Bottom Cone\n",
        "for i in range(thickness):\n",
        "    print(((c*(thickness-i-1)).rjust(thickness)+c+(c*(thickness-i-1)).ljust(thickness)).rjust(thickness*6))\n"
      ],
      "execution_count": null,
      "outputs": [
        {
          "output_type": "stream",
          "text": [
            "5\n",
            "    H    \n",
            "   HHH   \n",
            "  HHHHH  \n",
            " HHHHHHH \n",
            "HHHHHHHHH\n",
            "  HHHHH               HHHHH             \n",
            "  HHHHH               HHHHH             \n",
            "  HHHHH               HHHHH             \n",
            "  HHHHH               HHHHH             \n",
            "  HHHHH               HHHHH             \n",
            "  HHHHH               HHHHH             \n",
            "  HHHHHHHHHHHHHHHHHHHHHHHHH   \n",
            "  HHHHHHHHHHHHHHHHHHHHHHHHH   \n",
            "  HHHHHHHHHHHHHHHHHHHHHHHHH   \n",
            "  HHHHH               HHHHH             \n",
            "  HHHHH               HHHHH             \n",
            "  HHHHH               HHHHH             \n",
            "  HHHHH               HHHHH             \n",
            "  HHHHH               HHHHH             \n",
            "  HHHHH               HHHHH             \n",
            "                    HHHHHHHHH \n",
            "                     HHHHHHH  \n",
            "                      HHHHH   \n",
            "                       HHH    \n",
            "                        H     \n"
          ],
          "name": "stdout"
        }
      ]
    },
    {
      "cell_type": "code",
      "metadata": {
        "colab": {
          "base_uri": "https://localhost:8080/"
        },
        "id": "cnEfw-_cddMV",
        "outputId": "752fefe7-2512-49c4-eb9e-a04d21dbacdd"
      },
      "source": [
        "#Task4\n",
        "#Q8\n",
        "import textwrap\n",
        "string = str(input(\"Enter string to wrap:\"))\n",
        "max_width = int(input(\"Enter the width:\"))\n",
        "new = textwrap.fill(string, width = max_width)\n",
        "print(new)\n",
        "\n"
      ],
      "execution_count": null,
      "outputs": [
        {
          "output_type": "stream",
          "text": [
            "Enter string to wrap:qwertyuiopasdfghjklzxcvbnm\n",
            "Enter the width:4\n",
            "qwer\n",
            "tyui\n",
            "opas\n",
            "dfgh\n",
            "jklz\n",
            "xcvb\n",
            "nm\n"
          ],
          "name": "stdout"
        }
      ]
    },
    {
      "cell_type": "code",
      "metadata": {
        "colab": {
          "base_uri": "https://localhost:8080/"
        },
        "id": "68Oe51M0TyDD",
        "outputId": "c3e9ff78-0a08-4ce9-e2e4-bb0fbfcec98a"
      },
      "source": [
        "#Task4\n",
        "#Q9\n",
        "N, M = map(int, input().split())\n",
        "for i in range(1, N, 2):\n",
        "    print(str('.|.' * i).center(M, '-'))\n",
        "print('WELCOME'.center(M, '-'))\n",
        "for i in range(N-2, -1, -2):\n",
        "    print(str('.|.' * i).center(M, '-'))"
      ],
      "execution_count": null,
      "outputs": [
        {
          "output_type": "stream",
          "text": [
            "9 27\n",
            "------------.|.------------\n",
            "---------.|..|..|.---------\n",
            "------.|..|..|..|..|.------\n",
            "---.|..|..|..|..|..|..|.---\n",
            "----------WELCOME----------\n",
            "---.|..|..|..|..|..|..|.---\n",
            "------.|..|..|..|..|.------\n",
            "---------.|..|..|.---------\n",
            "------------.|.------------\n"
          ],
          "name": "stdout"
        }
      ]
    },
    {
      "cell_type": "code",
      "metadata": {
        "colab": {
          "base_uri": "https://localhost:8080/"
        },
        "id": "n6zyn-n_ZUOk",
        "outputId": "088f173a-bc34-4b43-be9f-54e3d7d287ea"
      },
      "source": [
        "#Task4\n",
        "#Q10\n",
        "dec = int(input(\"Enter the value of n:\"))\n",
        "for i in range(dec):\n",
        "  print(\"{0:d}\".format(int(i)))\n",
        "  print('{0:x}'.format(int(i)))\n",
        "  print('{0:o}'.format(int(i)))\n",
        "  print('{0:b}'.format(int(i)))"
      ],
      "execution_count": null,
      "outputs": [
        {
          "output_type": "stream",
          "text": [
            "Enter the value of n:17\n",
            "0\n",
            "0\n",
            "0\n",
            "0\n",
            "1\n",
            "1\n",
            "1\n",
            "1\n",
            "2\n",
            "2\n",
            "2\n",
            "10\n",
            "3\n",
            "3\n",
            "3\n",
            "11\n",
            "4\n",
            "4\n",
            "4\n",
            "100\n",
            "5\n",
            "5\n",
            "5\n",
            "101\n",
            "6\n",
            "6\n",
            "6\n",
            "110\n",
            "7\n",
            "7\n",
            "7\n",
            "111\n",
            "8\n",
            "8\n",
            "10\n",
            "1000\n",
            "9\n",
            "9\n",
            "11\n",
            "1001\n",
            "10\n",
            "a\n",
            "12\n",
            "1010\n",
            "11\n",
            "b\n",
            "13\n",
            "1011\n",
            "12\n",
            "c\n",
            "14\n",
            "1100\n",
            "13\n",
            "d\n",
            "15\n",
            "1101\n",
            "14\n",
            "e\n",
            "16\n",
            "1110\n",
            "15\n",
            "f\n",
            "17\n",
            "1111\n",
            "16\n",
            "10\n",
            "20\n",
            "10000\n"
          ],
          "name": "stdout"
        }
      ]
    },
    {
      "cell_type": "code",
      "metadata": {
        "colab": {
          "base_uri": "https://localhost:8080/"
        },
        "id": "r8hKC4b_i055",
        "outputId": "564d6659-09d1-4f54-aded-37b48fd9ad6d"
      },
      "source": [
        "#Task4\n",
        "#Q11\n",
        "def print_rangoli(n):\n",
        "    alpha = \"abcdefghijklmnopqrstuvwxyz\"\n",
        "    py = [alpha[i] for i in range(n)]\n",
        "    items = list(range(n))\n",
        "    items = items[:-1]+items[::-1]\n",
        "    for i in items:\n",
        "        temp = py[-(i+1):]\n",
        "        row = temp[::-1]+temp[1:]\n",
        "        print(\"-\".join(row).center(n*4-3, \"-\"))\n",
        "\n",
        "\n",
        "n = int(input(\"Enter the size:\"))\n",
        "print_rangoli(n)"
      ],
      "execution_count": null,
      "outputs": [
        {
          "output_type": "stream",
          "text": [
            "Enter the size:5\n",
            "--------e--------\n",
            "------e-d-e------\n",
            "----e-d-c-d-e----\n",
            "--e-d-c-b-c-d-e--\n",
            "e-d-c-b-a-b-c-d-e\n",
            "--e-d-c-b-c-d-e--\n",
            "----e-d-c-d-e----\n",
            "------e-d-e------\n",
            "--------e--------\n"
          ],
          "name": "stdout"
        }
      ]
    },
    {
      "cell_type": "code",
      "metadata": {
        "id": "S0Z53rFCmBlq",
        "colab": {
          "base_uri": "https://localhost:8080/"
        },
        "outputId": "e440a16e-fb19-4a81-e85d-3207f00c1239"
      },
      "source": [
        "#Task4\n",
        "#Q12\n",
        "name = str(input(\"Enter the full name:\"))\n",
        "nl = name.split()\n",
        "for i in nl:\n",
        "  lst = []\n",
        "  c = i.capitalize()\n",
        "  lst.append(c)\n",
        "  h = \"\"\n",
        "  print(h.join(map(str, lst)))  \n",
        "    \n",
        "\n"
      ],
      "execution_count": 10,
      "outputs": [
        {
          "output_type": "stream",
          "text": [
            "Enter the full name:satyam dubey\n",
            "Satyam\n",
            "Dubey\n"
          ],
          "name": "stdout"
        }
      ]
    },
    {
      "cell_type": "code",
      "metadata": {
        "colab": {
          "base_uri": "https://localhost:8080/"
        },
        "id": "M4ALh-Xs6scQ",
        "outputId": "71de7b9e-c154-44d0-817e-295259e4dc4f"
      },
      "source": [
        "#Task4\n",
        "#Q13\n",
        "vowels = ['A', 'E', 'I', 'O', 'U']\n",
        "\n",
        "def minion_game(string):\n",
        "    Kevin = 0\n",
        "    Stuart = 0\n",
        "    word = list(string)\n",
        "    x = len(word)\n",
        "    vowels = ['A','E','I','O','U']\n",
        "    for inx, w in enumerate(word):\n",
        "        if w in vowels:\n",
        "            Kevin = Kevin + x\n",
        "        else:\n",
        "            Stuart = Stuart + x\n",
        "        x = x - 1\n",
        "    if Stuart > Kevin:\n",
        "        print ('Stuart', Stuart)\n",
        "    elif Kevin > Stuart:\n",
        "        print ('Kevin', Kevin)\n",
        "    else:\n",
        "        print ('Draw')\n",
        "string = str(input(\"Enter the string:\"))\n",
        "minion_game(string)\n"
      ],
      "execution_count": 12,
      "outputs": [
        {
          "output_type": "stream",
          "text": [
            "Enter the string:Banana\n",
            "Stuart 21\n"
          ],
          "name": "stdout"
        }
      ]
    },
    {
      "cell_type": "code",
      "metadata": {
        "colab": {
          "base_uri": "https://localhost:8080/"
        },
        "id": "KaejejCKAaE3",
        "outputId": "53635356-cdde-4568-a0e5-f99c0adce4b9"
      },
      "source": [
        "#Task\n",
        "#Q14\n",
        "def merge_the_tools(string, k):\n",
        "    # your code goes here\n",
        "\n",
        "    temp = []\n",
        "    len_temp = 0\n",
        "    for item in string:\n",
        "        len_temp += 1\n",
        "        if item not in temp:\n",
        "            temp.append(item)\n",
        "        if len_temp == k:\n",
        "            print (''.join(temp))\n",
        "            temp = []\n",
        "            len_temp = 0\n",
        "\n",
        "string, k = input(), int(input())\n",
        "merge_the_tools(string, k)"
      ],
      "execution_count": 13,
      "outputs": [
        {
          "output_type": "stream",
          "text": [
            "AABCAAADA\n",
            "3\n",
            "AB\n",
            "CA\n",
            "AD\n"
          ],
          "name": "stdout"
        }
      ]
    },
    {
      "cell_type": "code",
      "metadata": {
        "id": "PEUWKGgw_EZJ"
      },
      "source": [
        ""
      ],
      "execution_count": null,
      "outputs": []
    }
  ]
}