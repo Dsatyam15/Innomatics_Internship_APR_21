{
  "nbformat": 4,
  "nbformat_minor": 0,
  "metadata": {
    "colab": {
      "name": "Untitled2.ipynb",
      "provenance": []
    },
    "kernelspec": {
      "name": "python3",
      "display_name": "Python 3"
    },
    "language_info": {
      "name": "python"
    }
  },
  "cells": [
    {
      "cell_type": "code",
      "metadata": {
        "colab": {
          "base_uri": "https://localhost:8080/"
        },
        "id": "RoHp7jX7hoNZ",
        "outputId": "b343d0c0-51e4-44fc-a2f1-cfb447019cb8"
      },
      "source": [
        "#Task4\n",
        "#Q1\n",
        "stg = str(input())\n",
        "print(stg.swapcase())"
      ],
      "execution_count": null,
      "outputs": [
        {
          "output_type": "stream",
          "text": [
            "Satyam\n",
            "sATYAM\n"
          ],
          "name": "stdout"
        }
      ]
    },
    {
      "cell_type": "code",
      "metadata": {
        "colab": {
          "base_uri": "https://localhost:8080/"
        },
        "id": "Q4lvhrZ8nPgI",
        "outputId": "b51c0d0a-f07f-4517-c0d6-cb91096b87a7"
      },
      "source": [
        "#Task4\n",
        "#Q2\n",
        "bolo = str(input())\n",
        "bolo = bolo.split(\" \")\n",
        "bolo = \"-\".join(bolo)\n",
        "print(bolo)\n"
      ],
      "execution_count": null,
      "outputs": [
        {
          "output_type": "stream",
          "text": [
            "Kya haal hai\n",
            "Kya-haal-hai\n"
          ],
          "name": "stdout"
        }
      ]
    },
    {
      "cell_type": "code",
      "metadata": {
        "colab": {
          "base_uri": "https://localhost:8080/"
        },
        "id": "cstibTORSuu6",
        "outputId": "793f78ac-7b3f-45ad-b209-552daff089fb"
      },
      "source": [
        "#Task4\n",
        "#Q3\n",
        "first = str(input(\"Enter 1st name:\"))\n",
        "last = str(input(\"Enter last name:\"))\n",
        "fname = first + \" \" + last\n",
        "print(\"Hello\",fname,\"! You just delved into python\")"
      ],
      "execution_count": null,
      "outputs": [
        {
          "output_type": "stream",
          "text": [
            "Enter 1st name:Satyam\n",
            "Enter last name:Dubey\n",
            "Hello Satyam Dubey ! You just delved into python\n"
          ],
          "name": "stdout"
        }
      ]
    },
    {
      "cell_type": "code",
      "metadata": {
        "colab": {
          "base_uri": "https://localhost:8080/"
        },
        "id": "u1yKDuFbnv1u",
        "outputId": "fd0c4d59-4bc0-457c-ab70-448d0c28aab2"
      },
      "source": [
        "#Task4\n",
        "#Q4\n",
        "gstr = str(input(\"Enter the string:\"))\n",
        "ind = int(input(\"Enter index to change:\"))\n",
        "char = str(input(\"Enter character to insert:\"))\n",
        "lst = list(gstr)\n",
        "lst[ind] = char\n",
        "string = ''.join(lst)\n",
        "print(string)\n",
        "str1 = gstr[:ind] + char +gstr[ind+1:]\n",
        "print(str1)\n"
      ],
      "execution_count": null,
      "outputs": [
        {
          "output_type": "stream",
          "text": [
            "Enter the string:Hello\n",
            "Enter index to change:2\n",
            "Enter character to insert:x\n",
            "Hexlo\n",
            "Hexlo\n"
          ],
          "name": "stdout"
        }
      ]
    },
    {
      "cell_type": "code",
      "metadata": {
        "id": "TPs_LJgk4Mx1",
        "colab": {
          "base_uri": "https://localhost:8080/"
        },
        "outputId": "15a36847-174d-4eb3-c018-6ced88505335"
      },
      "source": [
        "#Task4\n",
        "#Q5\n",
        "stg =  str(input(\"Enter the main string:\"))\n",
        "sstg = str(input(\"Enter the substring:\"))\n",
        "c = stg.count(sstg)\n",
        "print(c)\n"
      ],
      "execution_count": 3,
      "outputs": [
        {
          "output_type": "stream",
          "text": [
            "Enter the main string:matata\n",
            "Enter the substring:at\n",
            "2\n"
          ],
          "name": "stdout"
        }
      ]
    },
    {
      "cell_type": "code",
      "metadata": {
        "colab": {
          "base_uri": "https://localhost:8080/"
        },
        "id": "u-WxT8_nwFPb",
        "outputId": "da5b606a-7ae6-4dab-89d8-1cc79788eede"
      },
      "source": [
        "#Task4\n",
        "#Q6\n",
        "do = str(input(\"Enter the string:\"))\n",
        "print(any(i.isalnum() for i in do))\n",
        "print(any(i.isalpha() for i in do))\n",
        "print(any(i.isdigit() for i in do))\n",
        "print(any(i.islower() for i in do))\n",
        "print(any(i.isupper() for i in do))\n",
        "\n",
        "\n"
      ],
      "execution_count": 6,
      "outputs": [
        {
          "output_type": "stream",
          "text": [
            "Enter the string:Ha2\n",
            "True\n",
            "True\n",
            "True\n",
            "True\n",
            "True\n"
          ],
          "name": "stdout"
        }
      ]
    },
    {
      "cell_type": "code",
      "metadata": {
        "colab": {
          "base_uri": "https://localhost:8080/"
        },
        "id": "Zne2hDM62OnN",
        "outputId": "41c44690-d93a-4d81-8a58-b03916ff7419"
      },
      "source": [
        "#Task4\n",
        "#Q7\n",
        "#Replace all __ with rjust, ljust or center. \n",
        "\n",
        "thickness = int(input()) #This must be an odd number\n",
        "c = 'H'\n",
        "\n",
        "#Top Cone\n",
        "for i in range(thickness):\n",
        "    print((c*i).rjust(thickness-1)+c+(c*i).ljust(thickness-1))\n",
        "\n",
        "#Top Pillars\n",
        "for i in range(thickness+1):\n",
        "    print((c*thickness).center(thickness*2)+(c*thickness).center(thickness*6))\n",
        "\n",
        "#Middle Belt\n",
        "for i in range((thickness+1)//2):\n",
        "    print((c*thickness*5).center(thickness*6))    \n",
        "\n",
        "#Bottom Pillars\n",
        "for i in range(thickness+1):\n",
        "    print((c*thickness).center(thickness*2)+(c*thickness).center(thickness*6))    \n",
        "\n",
        "#Bottom Cone\n",
        "for i in range(thickness):\n",
        "    print(((c*(thickness-i-1)).rjust(thickness)+c+(c*(thickness-i-1)).ljust(thickness)).rjust(thickness*6))\n"
      ],
      "execution_count": 1,
      "outputs": [
        {
          "output_type": "stream",
          "text": [
            "5\n",
            "    H    \n",
            "   HHH   \n",
            "  HHHHH  \n",
            " HHHHHHH \n",
            "HHHHHHHHH\n",
            "  HHHHH               HHHHH             \n",
            "  HHHHH               HHHHH             \n",
            "  HHHHH               HHHHH             \n",
            "  HHHHH               HHHHH             \n",
            "  HHHHH               HHHHH             \n",
            "  HHHHH               HHHHH             \n",
            "  HHHHHHHHHHHHHHHHHHHHHHHHH   \n",
            "  HHHHHHHHHHHHHHHHHHHHHHHHH   \n",
            "  HHHHHHHHHHHHHHHHHHHHHHHHH   \n",
            "  HHHHH               HHHHH             \n",
            "  HHHHH               HHHHH             \n",
            "  HHHHH               HHHHH             \n",
            "  HHHHH               HHHHH             \n",
            "  HHHHH               HHHHH             \n",
            "  HHHHH               HHHHH             \n",
            "                    HHHHHHHHH \n",
            "                     HHHHHHH  \n",
            "                      HHHHH   \n",
            "                       HHH    \n",
            "                        H     \n"
          ],
          "name": "stdout"
        }
      ]
    },
    {
      "cell_type": "code",
      "metadata": {
        "colab": {
          "base_uri": "https://localhost:8080/"
        },
        "id": "cnEfw-_cddMV",
        "outputId": "752fefe7-2512-49c4-eb9e-a04d21dbacdd"
      },
      "source": [
        "#Task4\n",
        "#Q8\n",
        "import textwrap\n",
        "string = str(input(\"Enter string to wrap:\"))\n",
        "max_width = int(input(\"Enter the width:\"))\n",
        "new = textwrap.fill(string, width = max_width)\n",
        "print(new)\n",
        "\n"
      ],
      "execution_count": 4,
      "outputs": [
        {
          "output_type": "stream",
          "text": [
            "Enter string to wrap:qwertyuiopasdfghjklzxcvbnm\n",
            "Enter the width:4\n",
            "qwer\n",
            "tyui\n",
            "opas\n",
            "dfgh\n",
            "jklz\n",
            "xcvb\n",
            "nm\n"
          ],
          "name": "stdout"
        }
      ]
    },
    {
      "cell_type": "code",
      "metadata": {
        "colab": {
          "base_uri": "https://localhost:8080/"
        },
        "id": "68Oe51M0TyDD",
        "outputId": "c3e9ff78-0a08-4ce9-e2e4-bb0fbfcec98a"
      },
      "source": [
        "#Task4\n",
        "#Q9\n",
        "N, M = map(int, input().split())\n",
        "for i in range(1, N, 2):\n",
        "    print(str('.|.' * i).center(M, '-'))\n",
        "print('WELCOME'.center(M, '-'))\n",
        "for i in range(N-2, -1, -2):\n",
        "    print(str('.|.' * i).center(M, '-'))"
      ],
      "execution_count": 5,
      "outputs": [
        {
          "output_type": "stream",
          "text": [
            "9 27\n",
            "------------.|.------------\n",
            "---------.|..|..|.---------\n",
            "------.|..|..|..|..|.------\n",
            "---.|..|..|..|..|..|..|.---\n",
            "----------WELCOME----------\n",
            "---.|..|..|..|..|..|..|.---\n",
            "------.|..|..|..|..|.------\n",
            "---------.|..|..|.---------\n",
            "------------.|.------------\n"
          ],
          "name": "stdout"
        }
      ]
    },
    {
      "cell_type": "code",
      "metadata": {
        "colab": {
          "base_uri": "https://localhost:8080/",
          "height": 253
        },
        "id": "n6zyn-n_ZUOk",
        "outputId": "29597a8f-e210-4d78-b316-b35161b66d61"
      },
      "source": [
        "#Task4\n",
        "#Q10\n",
        "dec = int(input(\"Enter the value of n:\"))\n",
        "for i in range(dec):\n",
        "  print('{0,D}'.format(int(i)))\n",
        "  print('{0,X}'.format(int(i)))\n",
        "  print('{0,O}'.format(int(i)))\n",
        "  print('{0,B}'.format(int(i)))"
      ],
      "execution_count": 6,
      "outputs": [
        {
          "output_type": "stream",
          "text": [
            "Enter the value of n:17\n"
          ],
          "name": "stdout"
        },
        {
          "output_type": "error",
          "ename": "KeyError",
          "evalue": "ignored",
          "traceback": [
            "\u001b[0;31m---------------------------------------------------------------------------\u001b[0m",
            "\u001b[0;31mKeyError\u001b[0m                                  Traceback (most recent call last)",
            "\u001b[0;32m<ipython-input-6-2c27d93fe220>\u001b[0m in \u001b[0;36m<module>\u001b[0;34m()\u001b[0m\n\u001b[1;32m      3\u001b[0m \u001b[0mdec\u001b[0m \u001b[0;34m=\u001b[0m \u001b[0mint\u001b[0m\u001b[0;34m(\u001b[0m\u001b[0minput\u001b[0m\u001b[0;34m(\u001b[0m\u001b[0;34m\"Enter the value of n:\"\u001b[0m\u001b[0;34m)\u001b[0m\u001b[0;34m)\u001b[0m\u001b[0;34m\u001b[0m\u001b[0;34m\u001b[0m\u001b[0m\n\u001b[1;32m      4\u001b[0m \u001b[0;32mfor\u001b[0m \u001b[0mi\u001b[0m \u001b[0;32min\u001b[0m \u001b[0mrange\u001b[0m\u001b[0;34m(\u001b[0m\u001b[0mdec\u001b[0m\u001b[0;34m)\u001b[0m\u001b[0;34m:\u001b[0m\u001b[0;34m\u001b[0m\u001b[0;34m\u001b[0m\u001b[0m\n\u001b[0;32m----> 5\u001b[0;31m   \u001b[0mprint\u001b[0m\u001b[0;34m(\u001b[0m\u001b[0;34m'{0,D}'\u001b[0m\u001b[0;34m.\u001b[0m\u001b[0mformat\u001b[0m\u001b[0;34m(\u001b[0m\u001b[0mint\u001b[0m\u001b[0;34m(\u001b[0m\u001b[0mi\u001b[0m\u001b[0;34m)\u001b[0m\u001b[0;34m)\u001b[0m\u001b[0;34m)\u001b[0m\u001b[0;34m\u001b[0m\u001b[0;34m\u001b[0m\u001b[0m\n\u001b[0m\u001b[1;32m      6\u001b[0m   \u001b[0mprint\u001b[0m\u001b[0;34m(\u001b[0m\u001b[0;34m'{0,X}'\u001b[0m\u001b[0;34m.\u001b[0m\u001b[0mformat\u001b[0m\u001b[0;34m(\u001b[0m\u001b[0mint\u001b[0m\u001b[0;34m(\u001b[0m\u001b[0mi\u001b[0m\u001b[0;34m)\u001b[0m\u001b[0;34m)\u001b[0m\u001b[0;34m)\u001b[0m\u001b[0;34m\u001b[0m\u001b[0;34m\u001b[0m\u001b[0m\n\u001b[1;32m      7\u001b[0m   \u001b[0mprint\u001b[0m\u001b[0;34m(\u001b[0m\u001b[0;34m'{0,O}'\u001b[0m\u001b[0;34m.\u001b[0m\u001b[0mformat\u001b[0m\u001b[0;34m(\u001b[0m\u001b[0mint\u001b[0m\u001b[0;34m(\u001b[0m\u001b[0mi\u001b[0m\u001b[0;34m)\u001b[0m\u001b[0;34m)\u001b[0m\u001b[0;34m)\u001b[0m\u001b[0;34m\u001b[0m\u001b[0;34m\u001b[0m\u001b[0m\n",
            "\u001b[0;31mKeyError\u001b[0m: '0,D'"
          ]
        }
      ]
    }
  ]
}