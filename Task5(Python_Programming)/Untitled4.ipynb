{
  "nbformat": 4,
  "nbformat_minor": 0,
  "metadata": {
    "colab": {
      "name": "Untitled4.ipynb",
      "provenance": []
    },
    "kernelspec": {
      "name": "python3",
      "display_name": "Python 3"
    },
    "language_info": {
      "name": "python"
    }
  },
  "cells": [
    {
      "cell_type": "code",
      "metadata": {
        "colab": {
          "base_uri": "https://localhost:8080/"
        },
        "id": "kSu-pfewWXpk",
        "outputId": "1fc29901-a19d-49bb-c850-1bc4420489e1"
      },
      "source": [
        "#Task5\n",
        "#Q1\n",
        "import re\n",
        "\n",
        "t = int(input())\n",
        "\n",
        "for i in range(t):\n",
        "    value = input()\n",
        "    p = re.match(r'[-+]?[0-9]*[.][0-9]+$', value)\n",
        "    if p:\n",
        "        print('True')\n",
        "    else:\n",
        "        print('False')"
      ],
      "execution_count": 1,
      "outputs": [
        {
          "output_type": "stream",
          "text": [
            "4\n",
            "4.0O0\n",
            "False\n",
            "-1.00\n",
            "True\n",
            "+4.54\n",
            "True\n",
            "SomeRandomStuff\n",
            "False\n"
          ],
          "name": "stdout"
        }
      ]
    },
    {
      "cell_type": "code",
      "metadata": {
        "colab": {
          "base_uri": "https://localhost:8080/"
        },
        "id": "h3n2K04iW1Pl",
        "outputId": "d877c7ea-7c70-4648-9a2d-65b8a53d07e9"
      },
      "source": [
        "#Task5\n",
        "#Q2\n",
        "import re\n",
        "\n",
        "n = input()\n",
        "pattern = r\"[.,]+\"\n",
        "value = re.split(pattern, n)\n",
        "\n",
        "for i in value:\n",
        "    print(i)"
      ],
      "execution_count": 2,
      "outputs": [
        {
          "output_type": "stream",
          "text": [
            "100,000,000.000\n",
            "100\n",
            "000\n",
            "000\n",
            "000\n"
          ],
          "name": "stdout"
        }
      ]
    },
    {
      "cell_type": "code",
      "metadata": {
        "colab": {
          "base_uri": "https://localhost:8080/"
        },
        "id": "7t68A0tLXIS8",
        "outputId": "9bf5bc00-4b89-45c8-d490-061962d57a22"
      },
      "source": [
        "#Task5\n",
        "#Q3\n",
        "import re\n",
        "\n",
        "n = input()\n",
        "value = re.search(r\"([a-z0-9])\\1+\", n)\n",
        "\n",
        "if value is not None:\n",
        "    print(value.group(1))\n",
        "else:\n",
        "    print(-1)"
      ],
      "execution_count": 3,
      "outputs": [
        {
          "output_type": "stream",
          "text": [
            "..12345678910111213141516171820212223\n",
            "1\n"
          ],
          "name": "stdout"
        }
      ]
    }
  ]
}