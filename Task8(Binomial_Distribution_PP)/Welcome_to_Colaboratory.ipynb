{
  "nbformat": 4,
  "nbformat_minor": 0,
  "metadata": {
    "colab": {
      "name": "Welcome to Colaboratory",
      "provenance": [],
      "collapsed_sections": []
    },
    "kernelspec": {
      "display_name": "Python 3",
      "name": "python3"
    }
  },
  "cells": [
    {
      "cell_type": "code",
      "metadata": {
        "id": "pOVT_ohRQaLf",
        "outputId": "44c24afb-cc99-4fab-c690-db2415e40469",
        "colab": {
          "base_uri": "https://localhost:8080/"
        }
      },
      "source": [
        "#Task8\n",
        "#Q1\n",
        "def fact(n):\n",
        "    return 1 if n == 0 else n*fact(n-1)\n",
        "\n",
        "def comb(n, x):\n",
        "    return fact(n) / (fact(x) * fact(n-x))\n",
        "\n",
        "def b(x, n, p):\n",
        "    return comb(n, x) * p**x * (1-p)**(n-x)\n",
        "\n",
        "l, r = list(map(float, input().split(\" \")))\n",
        "odds = l / r\n",
        "print(round(sum([b(i, 6, odds / (1 + odds)) for i in range(3, 7)]), 3))"
      ],
      "execution_count": 1,
      "outputs": [
        {
          "output_type": "stream",
          "text": [
            "1.09 1\n",
            "0.696\n"
          ],
          "name": "stdout"
        }
      ]
    },
    {
      "cell_type": "code",
      "metadata": {
        "id": "VNZHCjKHf-F_",
        "outputId": "138e3f17-6a56-499a-8124-ea4533257464",
        "colab": {
          "base_uri": "https://localhost:8080/"
        }
      },
      "source": [
        "#Task8\n",
        "#Q2\n",
        "def fact(n):\n",
        "    return 1 if n == 0 else n*fact(n-1)\n",
        "\n",
        "def comb(n, x):\n",
        "    return fact(n) / (fact(x) * fact(n-x))\n",
        "\n",
        "def b(x, n, p):\n",
        "    return comb(n, x) * p**x * (1-p)**(n-x)\n",
        "\n",
        "p, n = list(map(int, input().split(\" \")))\n",
        "print(round(sum([b(i, n, p/100) for i in range(3)]), 3))\n",
        "print(round(sum([b(i, n, p/100) for i in range(2, n+1)]), 3))"
      ],
      "execution_count": 2,
      "outputs": [
        {
          "output_type": "stream",
          "text": [
            "12 10\n",
            "0.891\n",
            "0.342\n"
          ],
          "name": "stdout"
        }
      ]
    },
    {
      "cell_type": "code",
      "metadata": {
        "id": "4zPehCEUhQjM",
        "outputId": "4d72d8d7-afce-4c67-c4e4-3527e20b50a5",
        "colab": {
          "base_uri": "https://localhost:8080/"
        }
      },
      "source": [
        "#Task8\n",
        "#Q3\n",
        "import scipy.stats as st\n",
        "\n",
        "mean, std = 20, 2\n",
        "p1=st.norm.cdf(19.5, mean, std)\n",
        "p2=st.norm.cdf(22,mean, std)-st.norm.cdf(20, mean, std)\n",
        "print('%.3f\\n%.3f' % (p1,p2))"
      ],
      "execution_count": 3,
      "outputs": [
        {
          "output_type": "stream",
          "text": [
            "0.401\n",
            "0.341\n"
          ],
          "name": "stdout"
        }
      ]
    },
    {
      "cell_type": "code",
      "metadata": {
        "id": "iMLFixc7oz48",
        "outputId": "fc70bf7c-69f2-4043-f15b-9c56280d03fc",
        "colab": {
          "base_uri": "https://localhost:8080/"
        }
      },
      "source": [
        "#Task8\n",
        "#Q4\n",
        "import math\n",
        "mean, std = 70, 10\n",
        "cdf = lambda x: 0.5 * (1 + math.erf((x - mean) / (std * (2 ** 0.5))))\n",
        "\n",
        "\n",
        "print(round((1-cdf(80))*100,2))\n",
        "print(round((1-cdf(60))*100,2))\n",
        "print(round((cdf(60))*100,2))"
      ],
      "execution_count": 4,
      "outputs": [
        {
          "output_type": "stream",
          "text": [
            "15.87\n",
            "84.13\n",
            "15.87\n"
          ],
          "name": "stdout"
        }
      ]
    },
    {
      "cell_type": "code",
      "metadata": {
        "id": "wAKYJAZqpZsK",
        "outputId": "e228e98f-6187-44d0-f046-032530e4c4b0",
        "colab": {
          "base_uri": "https://localhost:8080/"
        }
      },
      "source": [
        "#Task8\n",
        "#Q5\n",
        "x = int(input())\n",
        "n = int(input())\n",
        "mu = int(input())\n",
        "sigma = int(input())\n",
        "\n",
        "mu_sum = n * mu \n",
        "sigma_sum = math.sqrt(n) * sigma\n",
        "\n",
        "def cdf(x, mu, sigma):\n",
        "    Z = (x - mu)/sigma\n",
        "    return 0.5*(1 + math.erf(Z/(math.sqrt(2))))\n",
        "\n",
        "print(round(cdf(x, mu_sum, sigma_sum), 4))"
      ],
      "execution_count": 5,
      "outputs": [
        {
          "output_type": "stream",
          "text": [
            "9800\n",
            "49\n",
            "205\n",
            "15\n",
            "0.0098\n"
          ],
          "name": "stdout"
        }
      ]
    },
    {
      "cell_type": "code",
      "metadata": {
        "id": "NHK3PqwRs0as",
        "outputId": "22a1fc17-f9e3-47a9-b265-b245851338eb",
        "colab": {
          "base_uri": "https://localhost:8080/"
        }
      },
      "source": [
        "#Task8\n",
        "#Q6\n",
        "x = int(input())\n",
        "n = int(input())\n",
        "sampling_mean = float(input())\n",
        "sampling_stdev = float(input())\n",
        "stdev = sampling_stdev * math.sqrt(n)\n",
        "\n",
        "cdf = 0.5 * (1 + math.erf((x - sampling_mean * n) / (stdev * math.sqrt(2))))\n",
        "\n",
        "print(round(cdf,4))"
      ],
      "execution_count": 6,
      "outputs": [
        {
          "output_type": "stream",
          "text": [
            "250\n",
            "100\n",
            "2.4\n",
            "2.0\n",
            "0.6915\n"
          ],
          "name": "stdout"
        }
      ]
    },
    {
      "cell_type": "code",
      "metadata": {
        "id": "LDxjAU8-u6cM",
        "outputId": "5a7434fe-c3c6-40c6-be68-0d7f3d552f8f",
        "colab": {
          "base_uri": "https://localhost:8080/"
        }
      },
      "source": [
        "#Task8\n",
        "#Q7\n",
        "samples = float(input())\n",
        "mean = float(input())\n",
        "sd = float(input())\n",
        "interval = float(input())\n",
        "z = float (input())\n",
        "\n",
        "sd_sample = sd / (samples**0.5)\n",
        "print(round(mean - sd_sample*z,2))\n",
        "print(round(mean + sd_sample*z,2))"
      ],
      "execution_count": 7,
      "outputs": [
        {
          "output_type": "stream",
          "text": [
            "100\n",
            "500\n",
            "80\n",
            "0.95\n",
            "1.96\n",
            "484.32\n",
            "515.68\n"
          ],
          "name": "stdout"
        }
      ]
    },
    {
      "cell_type": "code",
      "metadata": {
        "id": "CLaejjAwvqez",
        "outputId": "08842aaa-e437-4a41-d27a-ee4850eb8095",
        "colab": {
          "base_uri": "https://localhost:8080/"
        }
      },
      "source": [
        "#Task8\n",
        "#Q8\n",
        "N = int(input())\n",
        "X = list(map(float,input().strip().split()))\n",
        "Y = list(map(float,input().strip().split()))\n",
        "\n",
        "mu_x = sum(X) / N\n",
        "mu_y = sum(Y) / N\n",
        "\n",
        "stdv_x = (sum([(i - mu_x)**2 for i in X]) / N)**0.5\n",
        "stdv_y = (sum([(i - mu_y)**2 for i in Y]) / N)**0.5\n",
        "\n",
        "\n",
        "covariance = sum([(X[i] - mu_x) * (Y[i] -mu_y) for i in range(N)])\n",
        "\n",
        "correlation_coefficient = covariance / (N * stdv_x * stdv_y)\n",
        "\n",
        "print(round(correlation_coefficient,3))"
      ],
      "execution_count": 8,
      "outputs": [
        {
          "output_type": "stream",
          "text": [
            "10\n",
            "10 9.8 8 7.8 7.7 7 6 5 4 2 \n",
            "200 44 32 24 22 17 15 12 8 4\n",
            "0.612\n"
          ],
          "name": "stdout"
        }
      ]
    },
    {
      "cell_type": "code",
      "metadata": {
        "id": "lz2oKpuD27rF",
        "outputId": "1d322326-cb02-474c-e184-82f4e7ffed94",
        "colab": {
          "base_uri": "https://localhost:8080/"
        }
      },
      "source": [
        "#Task8\n",
        "#Q9\n",
        "n = 5\n",
        "xy = [map(int, input().split()) for _ in range(n)]\n",
        "sx, sy, sx2, sxy = map(sum, zip(*[(x, y, x**2, x * y) for x, y in xy]))\n",
        "b = (n * sxy - sx * sy) / (n * sx2 - sx**2)\n",
        "a = (sy / n) - b * (sx / n)\n",
        "print('{:.3f}'.format(a + b * 80))"
      ],
      "execution_count": 10,
      "outputs": [
        {
          "output_type": "stream",
          "text": [
            "95 85\n",
            "85 95\n",
            "80 70\n",
            "70 65\n",
            "60 70\n",
            "78.288\n"
          ],
          "name": "stdout"
        }
      ]
    },
    {
      "cell_type": "code",
      "metadata": {
        "id": "wqlO4xnL3NVG",
        "outputId": "cdf02f8e-624c-485f-c668-c26f75d814fa",
        "colab": {
          "base_uri": "https://localhost:8080/"
        }
      },
      "source": [
        "#Task8\n",
        "#Q10\n",
        "import numpy as np\n",
        "m,n = [int(i) for i in input().strip().split(' ')]\n",
        "X = []\n",
        "Y = []\n",
        "for i in range(n):\n",
        "    data = input().strip().split(' ')\n",
        "    X.append(data[:m])\n",
        "    Y.append(data[m:])\n",
        "q = int(input().strip())\n",
        "X_new = []\n",
        "for x in range(q):\n",
        "    X_new.append(input().strip().split(' '))\n",
        "X = np.array(X,float)\n",
        "Y = np.array(Y,float)\n",
        "X_new = np.array(X_new,float)\n",
        "\n",
        "#center\n",
        "X_R = X-np.mean(X,axis=0)\n",
        "Y_R = Y-np.mean(Y)\n",
        "\n",
        "#calculate beta\n",
        "beta = np.dot(np.linalg.inv(np.dot(X_R.T,X_R)),np.dot(X_R.T,Y_R))\n",
        "\n",
        "#predict\n",
        "X_new_R = X_new-np.mean(X,axis=0)\n",
        "Y_new_R = np.dot(X_new_R,beta)\n",
        "Y_new = Y_new_R + np.mean(Y)\n",
        "\n",
        "#print\n",
        "for i in Y_new:\n",
        "    print(round(float(i),2))"
      ],
      "execution_count": 11,
      "outputs": [
        {
          "output_type": "stream",
          "text": [
            "2 7\n",
            "0.18 0.89 109.85\n",
            "1.0 0.26 155.72\n",
            "0.92 0.11 137.66\n",
            "0.07 0.37 76.17\n",
            "0.85 0.16 139.75\n",
            "0.99 0.41 162.6\n",
            "0.87 0.47 151.77\n",
            "4\n",
            "0.49 0.18\n",
            "0.57 0.83\n",
            "0.56 0.64\n",
            "0.76 0.18\n",
            "105.21\n",
            "142.67\n",
            "132.94\n",
            "129.7\n"
          ],
          "name": "stdout"
        }
      ]
    }
  ]
}