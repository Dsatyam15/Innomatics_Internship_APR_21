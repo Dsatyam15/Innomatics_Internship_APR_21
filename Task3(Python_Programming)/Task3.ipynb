{
  "nbformat": 4,
  "nbformat_minor": 0,
  "metadata": {
    "colab": {
      "name": "Untitled1.ipynb",
      "provenance": [],
      "collapsed_sections": []
    },
    "kernelspec": {
      "name": "python3",
      "display_name": "Python 3"
    },
    "language_info": {
      "name": "python"
    }
  },
  "cells": [
    {
      "cell_type": "code",
      "metadata": {
        "colab": {
          "base_uri": "https://localhost:8080/"
        },
        "id": "4m__vMzClqnM",
        "outputId": "624732db-042b-4d02-b6ca-f27d56463e81"
      },
      "source": [
        "#Task3\n",
        "#Q1\n",
        "import cmath\n",
        "complx = complex(input(\"Enter comp. no:\"))\n",
        "print(complx.real, complx.imag)\n",
        "p = cmath.phase(complx)\n",
        "print(p)\n",
        "a = abs(complx)\n",
        "print(a)"
      ],
      "execution_count": null,
      "outputs": [
        {
          "output_type": "stream",
          "text": [
            "Enter comp. no:3+4j\n",
            "3.0 4.0\n",
            "0.9272952180016122\n",
            "5.0\n"
          ],
          "name": "stdout"
        }
      ]
    },
    {
      "cell_type": "code",
      "metadata": {
        "colab": {
          "base_uri": "https://localhost:8080/"
        },
        "id": "3NZ4YbYu-05i",
        "outputId": "658dd42a-4517-4a62-d1ee-a8e154192d6c"
      },
      "source": [
        "#Task3\n",
        "#Q2\n",
        "import cmath, numpy\n",
        "x = int(input(\"Enter x value:\"))\n",
        "y = int(input(\"Enter y value:\"))\n",
        "z = x + y*1j\n",
        "p = cmath.phase(z)\n",
        "d = numpy.degrees(p)\n",
        "print(d)"
      ],
      "execution_count": null,
      "outputs": [
        {
          "output_type": "stream",
          "text": [
            "Enter x value:10\n",
            "Enter y value:10\n",
            "45.0\n"
          ],
          "name": "stdout"
        }
      ]
    },
    {
      "cell_type": "code",
      "metadata": {
        "id": "DCi5W8MAXinU",
        "colab": {
          "base_uri": "https://localhost:8080/"
        },
        "outputId": "7742a670-1495-4519-9099-1b0e9b1819c9"
      },
      "source": [
        "#Task3\n",
        "#Q3\n",
        "import math\n",
        "def palindrome(n):\n",
        "    s = 10\n",
        "    p = 9\n",
        "    for i in range(1, n+1):\n",
        "        b = pow(s, i)//p\n",
        "        print(pow(b, 2))\n",
        "\n",
        "n = int(input())\n",
        "palindrome(n)\n"
      ],
      "execution_count": 2,
      "outputs": [
        {
          "output_type": "stream",
          "text": [
            "5\n",
            "1\n",
            "121\n",
            "12321\n",
            "1234321\n",
            "123454321\n"
          ],
          "name": "stdout"
        }
      ]
    },
    {
      "cell_type": "code",
      "metadata": {
        "colab": {
          "base_uri": "https://localhost:8080/"
        },
        "id": "JORRxdv-0ct7",
        "outputId": "9200e77d-12e5-4f61-94bc-af036b052a5d"
      },
      "source": [
        "#Task3\n",
        "#Q4\n",
        "a = int(input(\"Enter the 1st number:\"))\n",
        "b = int(input(\"Enter the 2nd number:\"))\n",
        "q = a//b\n",
        "r = a%b\n",
        "dm = divmod(a,b)\n",
        "print(q)\n",
        "print(r)\n",
        "print(dm)"
      ],
      "execution_count": 1,
      "outputs": [
        {
          "output_type": "stream",
          "text": [
            "Enter the 1st number:10\n",
            "Enter the 2nd number:9\n",
            "1\n",
            "1\n",
            "(1, 1)\n"
          ],
          "name": "stdout"
        }
      ]
    },
    {
      "cell_type": "code",
      "metadata": {
        "colab": {
          "base_uri": "https://localhost:8080/"
        },
        "id": "gYKGpAMaj-Sf",
        "outputId": "798c46bc-ca2e-4093-ebb8-af0db98f25f0"
      },
      "source": [
        "#Task3\n",
        "#Q5\n",
        "import mpmath\n",
        "a = int(input(\"Enter value of x:\"))\n",
        "b = int(input(\"Enter value of y:\"))\n",
        "m = int(input(\"Enter mod value:\"))\n",
        "print(pow(a,b))\n",
        "print(pow(a,b,m))\n"
      ],
      "execution_count": 2,
      "outputs": [
        {
          "output_type": "stream",
          "text": [
            "Enter value of x:3\n",
            "Enter value of y:4\n",
            "Enter mod value:5\n",
            "81\n",
            "1\n"
          ],
          "name": "stdout"
        }
      ]
    },
    {
      "cell_type": "code",
      "metadata": {
        "colab": {
          "base_uri": "https://localhost:8080/"
        },
        "id": "RJoh-q77ImT4",
        "outputId": "f07dd3cf-6cf8-409b-bdda-e442fb5144b3"
      },
      "source": [
        "#Task3\n",
        "#Q6\n",
        "import math\n",
        "a = int(input(\"Enter a value:\"))\n",
        "b = int(input(\"Enter b value:\"))\n",
        "x = pow(a,b)\n",
        "c = int(input(\"Enter c value:\"))\n",
        "d = int(input(\"Enter d value:\"))\n",
        "y = pow(c,d)\n",
        "print(x+y)\n"
      ],
      "execution_count": 3,
      "outputs": [
        {
          "output_type": "stream",
          "text": [
            "Enter a value:9\n",
            "Enter b value:29\n",
            "Enter c value:7\n",
            "Enter d value:27\n",
            "4710194409608608369201743232\n"
          ],
          "name": "stdout"
        }
      ]
    },
    {
      "cell_type": "code",
      "metadata": {
        "colab": {
          "base_uri": "https://localhost:8080/"
        },
        "id": "W34N59vVJhfb",
        "outputId": "5862542e-3afa-4d7c-e733-bdda0848f426"
      },
      "source": [
        "#Task3\n",
        "#Q7\n",
        "import math\n",
        "def triangle(n):\n",
        "    s = 10\n",
        "    p = 9\n",
        "    for i in range(1, n):\n",
        "        b = pow(s, i)//(p/i)\n",
        "        print(int(b))\n",
        "n = int(input(\"Enter n value:\"))\n",
        "triangle(n)        \n"
      ],
      "execution_count": 12,
      "outputs": [
        {
          "output_type": "stream",
          "text": [
            "Enter n value:5\n",
            "1\n",
            "22\n",
            "333\n",
            "4444\n"
          ],
          "name": "stdout"
        }
      ]
    }
  ]
}